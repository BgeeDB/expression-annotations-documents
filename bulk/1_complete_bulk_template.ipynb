{
 "cells": [
  {
   "cell_type": "markdown",
   "metadata": {},
   "source": [
    "## title\n",
    "\n",
    "**paper:** []() - \n",
    "\n",
    "**date, curator:** 2024-0, Sara Carsanaro"
   ]
  },
  {
   "cell_type": "markdown",
   "metadata": {},
   "source": [
    "### annotation summary\n",
    "run this after annotation is complete"
   ]
  },
  {
   "cell_type": "code",
   "execution_count": null,
   "metadata": {},
   "outputs": [],
   "source": [
    "anat_summary = library_to_add[['infoOrgan', 'anatId', 'anatName', 'anatAnnotationStatus']]\n",
    "unique_anat = anat_summary.drop_duplicates()\n",
    "display_df(unique_anat)"
   ]
  },
  {
   "cell_type": "code",
   "execution_count": null,
   "metadata": {},
   "outputs": [],
   "source": [
    "dev_summary = library_to_add[['infoStage', 'stageId', 'stageName', 'stageAnnotationStatus']]\n",
    "unique_dev = dev_summary.drop_duplicates()\n",
    "display_df(unique_dev)"
   ]
  },
  {
   "cell_type": "markdown",
   "metadata": {},
   "source": [
    "### set variables, import packages, define functions"
   ]
  },
  {
   "cell_type": "code",
   "execution_count": 19,
   "metadata": {},
   "outputs": [],
   "source": [
    "experiment_id = \"\"\n",
    "\n",
    "path_to_create_exp_script = \"/Users/scarsana/Desktop/git/scRNA-Seq/scripts/Create_ExpLib_tables.py\" \n",
    "experiment_type = \"bulk\"\n",
    "\n",
    "path_to_output_main = \"/Users/scarsana/Desktop/git/expression-annotations/Notebooks/bulk/\" \n",
    "path_to_output = \"{}{}/\".format(path_to_output_main, experiment_id)\n",
    "library_path_from_script = \"{}RNASeqLibrary_{}.tsv\".format(path_to_output, experiment_id)\n",
    "experiment_path_from_script = \"{}RNASeqExperiment_{}.tsv\".format(path_to_output, experiment_id)\n",
    "library_to_add_path = \"{}complete_RNASeqLibrary_{}.tsv\".format(path_to_output, experiment_id)\n",
    "experiment_to_add_path = \"{}complete_RNASeqExperiment_{}.tsv\".format(path_to_output, experiment_id)\n",
    "script_file = \"{}.ipynb\".format(experiment_id)\n",
    "commit_message_exp = '\"adding annotated bulk experiment {}\"'.format(experiment_id)\n",
    "commit_message_py = '\"adding annotation files for {} to notebook folder\"'.format(experiment_id)\n",
    "\n",
    "\n",
    "## to add to git\n",
    "path_to_git_annotations = \"/Users/scarsana/Desktop/git/expression-annotations/RNA_Seq/\"\n",
    "git_library_path = \"{}RNASeqLibrary.tsv\".format(path_to_git_annotations)\n",
    "git_experiment_path = \"{}RNASeqExperiment.tsv\".format(path_to_git_annotations)\n",
    "\n",
    "library_cols = ['#libraryId', 'experimentId', 'platform', 'SRSId', 'anatId', 'anatName', 'stageId', 'stageName', 'url_GSM', 'infoOrgan', 'infoStage', 'anatAnnotationStatus', 'anatBiologicalStatus', 'stageAnnotationStatus', 'sex', 'strain', 'genotype', 'speciesId', 'protocol', 'protocolType', 'RNASelection', 'globin_reduction', 'replicate', 'lib_name', 'sampleName', 'sampleAge_value', 'sampleAge_unit', 'PATOid', 'PATOname','comment', 'condition', 'physiologicalStatus', 'annotatorId', 'lastModificationDate']"
   ]
  },
  {
   "cell_type": "code",
   "execution_count": null,
   "metadata": {},
   "outputs": [],
   "source": [
    "import warnings\n",
    "warnings.simplefilter(action='ignore', category=FutureWarning)\n",
    "import pandas as pd\n",
    "import numpy as np\n",
    "from IPython.display import display, HTML\n",
    "import os\n",
    "import csv\n",
    "\n",
    "# displays df with the scrollbar next to the DataFrame\n",
    "def display_df(df):\n",
    "    pd.set_option(\"display.max_rows\", None)\n",
    "    pd.set_option(\"display.max_columns\", None)\n",
    "    display(HTML(\"<div style='height: 300px; overflow: auto; width: fit-content'>\" +\n",
    "        df.style.to_html(index=False) + \"</div>\"))\n",
    "\n",
    "# function that compares two columns in a dataframe and tells you which ones are not equal (case insensitive)\n",
    "def compare_columns(df, col1, col2, return_col):\n",
    "    compare_return = df[col1].str.lower() != df[col2].str.lower()  \n",
    "    df.loc[compare_return, return_col] \n",
    "    if not any(compare_return):\n",
    "        print(\"The two columns are equal (case insensitive)\")\n",
    "    else:\n",
    "        print(\"The following rows are not equal: \")\n",
    "        print(df.loc[compare_return, return_col])\n",
    "\n",
    "# fixes formatting of file to match libreoffice settings/historic file format\n",
    "def update_format(path):\n",
    "    with open(path, 'r') as file:\n",
    "        filedata = file.read()\n",
    "    # Replace the target string\n",
    "    filedata = filedata.replace(\"\\t\\\"\\\"\", \"\\t\")\n",
    "    # Write the file out again\n",
    "    with open(path, 'w') as file:\n",
    "        file.write(filedata)\n",
    "\n",
    "# checks for duplicate values in a specific column and prints those values + the corresponding library id\n",
    "def dup_check(df, column):\n",
    "    duplicateCheck = df.duplicated(subset=[column], keep=False)\n",
    "    duplicateCheck.sort_values(inplace=True)\n",
    "    if duplicateCheck.unique().any() == False:\n",
    "        print(\"no duplicate values in \" + column)\n",
    "    elif duplicateCheck.unique().any() == True and column != '#libraryId':\n",
    "        dups = df[duplicateCheck].loc[:,['#libraryId', column]]\n",
    "        df_dups = pd.DataFrame(dups)\n",
    "        df_dups.sort_values(inplace=True, by=column)\n",
    "        print(df_dups)\n",
    "    elif duplicateCheck.unique().any() == True and column == '#libraryId':\n",
    "        print(df[duplicateCheck].loc[:,['#libraryId']])\n",
    "\n",
    "# prints all unique values in a specific column\n",
    "def unique_sorted(df, column):\n",
    "    unique = df[column].unique()\n",
    "    unique.sort()\n",
    "    print(unique)"
   ]
  },
  {
   "cell_type": "markdown",
   "metadata": {},
   "source": [
    "### script"
   ]
  },
  {
   "cell_type": "code",
   "execution_count": null,
   "metadata": {},
   "outputs": [],
   "source": [
    "! python3 $path_to_create_exp_script $experiment_id $path_to_output $experiment_type"
   ]
  },
  {
   "cell_type": "markdown",
   "metadata": {},
   "source": [
    "### library annnotations"
   ]
  },
  {
   "cell_type": "code",
   "execution_count": null,
   "metadata": {},
   "outputs": [],
   "source": [
    "library = pd.read_csv(library_path_from_script, sep='\\t', index_col=False, keep_default_na=False, na_values=['NULL','null', 'nan','NaN'], dtype=object)\n",
    "display_df(library)"
   ]
  },
  {
   "cell_type": "markdown",
   "metadata": {},
   "source": [
    "#### anatomical entity\n",
    "* [uberon ols](https://www.ebi.ac.uk/ols4/ontologies/uberon)"
   ]
  },
  {
   "cell_type": "code",
   "execution_count": null,
   "metadata": {},
   "outputs": [],
   "source": [
    "unique_sorted(library, \"infoOrgan\")"
   ]
  },
  {
   "cell_type": "code",
   "execution_count": null,
   "metadata": {},
   "outputs": [],
   "source": [
    "\n",
    "# all\n",
    "library.loc[:,'anatId'] = ''\n",
    "library.loc[:,'anatName'] = ''\n",
    "# perfect match, missing child term, other\n",
    "library.loc[:,'anatAnnotationStatus'] = ''\n",
    "# partial sampling, full sampling, not documented\n",
    "library.loc[:,'anatBiologicalStatus'] = ''\n",
    "\n",
    "# conditional (based off infoOrgan)\n",
    "library.loc[library[\"infoOrgan\"] == \"old\", \"anatId\"] = \"new\"\n",
    "library.loc[library[\"infoOrgan\"] == \"old\", \"anatName\"] = \"new\"\n",
    "# perfect match, missing child term, other\n",
    "library.loc[library[\"infoOrgan\"] == \"old\", \"anatAnnotationStatus\"] = \"new\"\n",
    "library.loc[library[\"infoOrgan\"] == \"old\", \"anatBiologicalStatus\"] = \"new\"\n",
    "\n",
    "# view\n",
    "display_df(library)"
   ]
  },
  {
   "cell_type": "markdown",
   "metadata": {},
   "source": [
    "#### stage\n",
    "- [species specific developmental ontologies](https://github.com/obophenotype/developmental-stage-ontologies/tree/master/src)"
   ]
  },
  {
   "cell_type": "code",
   "execution_count": null,
   "metadata": {},
   "outputs": [],
   "source": [
    "unique_sorted(library, \"infoStage\")"
   ]
  },
  {
   "cell_type": "code",
   "execution_count": null,
   "metadata": {},
   "outputs": [],
   "source": [
    "# all\n",
    "library.loc[:,'stageId'] = ''\n",
    "library.loc[:,'stageName'] = ''\n",
    "# perfect match, missing child term, other\n",
    "library.loc[:,'stageAnnotationStatus'] = ''\n",
    "\n",
    "# conditional (based off infoStage)\n",
    "library.loc[library[\"infoStage\"] == \"old\", \"stageId\"] = \"new\"\n",
    "library.loc[library[\"infoStage\"] == \"old\", \"stageName\"] = \"new\"\n",
    "# perfect match, missing child term, other\n",
    "library.loc[library[\"infoStage\"] == \"old\", \"stageAnnotationStatus\"] = \"new\"\n",
    "\n",
    "# view\n",
    "display_df(library)"
   ]
  },
  {
   "cell_type": "markdown",
   "metadata": {},
   "source": [
    "#### sex, strain, genotype, speciesId\n",
    "- uniprot [strain list](https://ftp.uniprot.org/pub/databases/uniprot/current_release/knowledgebase/complete/docs/strains)\n",
    "- uniprot [species list](https://ftp.uniprot.org/pub/databases/uniprot/current_release/knowledgebase/complete/docs/speclist)\n",
    "- bgee [strain mapping](https://gitlab.sib.swiss/Bgee/expression-annotations/-/tree/develop/Strains?ref_type=heads)"
   ]
  },
  {
   "cell_type": "code",
   "execution_count": null,
   "metadata": {},
   "outputs": [],
   "source": [
    "library.loc[library[\"sex\"] == \"male\", \"sex\"] = \"M\"\n",
    "library.loc[library[\"sex\"] == \"female\", \"sex\"] = \"F\"\n",
    "\n",
    "#library.loc[:,'strain'] = ''\n",
    "\n",
    "#library.loc[:,'genotype'] = ''\n",
    "\n",
    "#library.loc[:,'speciesId'] = ''\n",
    "\n",
    "# view\n",
    "display_df(library)"
   ]
  },
  {
   "cell_type": "markdown",
   "metadata": {},
   "source": [
    "#### protocol\n",
    "see [bulk kits](https://gitlab.sib.swiss/Bgee/scRNA-Seq/-/blob/main/scripts/bulk_kits.csv) for some common protocols"
   ]
  },
  {
   "cell_type": "code",
   "execution_count": null,
   "metadata": {},
   "outputs": [],
   "source": [
    "# making these variables because we use them again in the experiment file\n",
    "my_protocol = ''\n",
    "# full_length or 3'\n",
    "my_protocolType = ''\n",
    "\n",
    "library.loc[:,'protocol'] = my_protocol\n",
    "library.loc[:,'protocolType'] = my_protocolType\n",
    "# polyA, ribo-minus, miRNA, lncRNA, circRNA\n",
    "library.loc[:,'RNASelection'] = ''\n",
    "\n",
    "# view\n",
    "display_df(library)"
   ]
  },
  {
   "cell_type": "markdown",
   "metadata": {},
   "source": [
    "#### globin, replicates"
   ]
  },
  {
   "cell_type": "code",
   "execution_count": null,
   "metadata": {},
   "outputs": [],
   "source": [
    "# check for duplicate SRSId values\n",
    "dup_check(library, \"SRSId\")"
   ]
  },
  {
   "cell_type": "code",
   "execution_count": null,
   "metadata": {},
   "outputs": [],
   "source": [
    "#library.loc[:,'globin_reduction'] = 'Y'\n",
    "\n",
    "# replicates\n",
    "#library.loc[library[\"#libraryId\"] == \"old\", \"replicate\"] = \"1\"\n",
    "#library.loc[library[\"#libraryId\"].isin([\"one\", \"two\"]), \"replicate\"] = \"1\"\n",
    "\n",
    "# view\n",
    "display_df(library)"
   ]
  },
  {
   "cell_type": "markdown",
   "metadata": {},
   "source": [
    "#### sample age, pato, physiological status"
   ]
  },
  {
   "cell_type": "code",
   "execution_count": null,
   "metadata": {},
   "outputs": [],
   "source": [
    "#library.loc[:,'sampleAge_value'] = ''\n",
    "#library.loc[:,'sampleAge_unit'] = ''\n",
    "\n",
    "# ex. castrated male\n",
    "#library.loc[:,'PATOid'] = ''\n",
    "#library.loc[:,'PATOname'] = ''\n",
    "\n",
    "# ex. castrated, pregnant, pre-smoltification, post-smoltification, laying eggs\n",
    "#library.loc[:,'physiologicalStatus'] = ''\n",
    "\n",
    "# view\n",
    "display_df(library)"
   ]
  },
  {
   "cell_type": "markdown",
   "metadata": {},
   "source": [
    "#### condition"
   ]
  },
  {
   "cell_type": "code",
   "execution_count": null,
   "metadata": {},
   "outputs": [],
   "source": [
    "# ex. control, diet, light, reproductive capacity, time post mortem, time post feeding, \n",
    "# exercise details, menstruation, personality, litter size \n",
    "#library.loc[library[\"condition\"] == \"old\", \"condition\"] = \"new\"\n",
    "\n",
    "# view\n",
    "display_df(library)"
   ]
  },
  {
   "cell_type": "markdown",
   "metadata": {},
   "source": [
    "#### annotator id, last modification date"
   ]
  },
  {
   "cell_type": "code",
   "execution_count": null,
   "metadata": {},
   "outputs": [],
   "source": [
    "library.loc[:,'annotatorId'] = 'SAC'\n",
    "library.loc[:,'lastModificationDate'] = '2024-0'\n",
    "\n",
    "# view\n",
    "display_df(library)"
   ]
  },
  {
   "cell_type": "markdown",
   "metadata": {},
   "source": [
    "#### comments"
   ]
  },
  {
   "cell_type": "code",
   "execution_count": null,
   "metadata": {},
   "outputs": [],
   "source": [
    "#library.loc[:,'comment'] = ''"
   ]
  },
  {
   "cell_type": "markdown",
   "metadata": {},
   "source": [
    "#### save complete file with correct columns"
   ]
  },
  {
   "cell_type": "code",
   "execution_count": null,
   "metadata": {},
   "outputs": [],
   "source": [
    "library_file_complete = library[library_cols]\n",
    "library_file_complete.to_csv(library_to_add_path, sep=\"\\t\", index=False, quoting=csv.QUOTE_ALL)\n",
    "\n",
    "# view\n",
    "display_df(library_file_complete)"
   ]
  },
  {
   "cell_type": "markdown",
   "metadata": {},
   "source": [
    "### experiment annotations"
   ]
  },
  {
   "cell_type": "code",
   "execution_count": null,
   "metadata": {},
   "outputs": [],
   "source": [
    "experiment = pd.read_csv(experiment_path_from_script, sep='\\t', index_col=False, keep_default_na=False, na_values=['NULL','null', 'nan','NaN'], dtype=object)\n",
    "display_df(experiment)"
   ]
  },
  {
   "cell_type": "markdown",
   "metadata": {},
   "source": [
    "#### experiment and protocol details"
   ]
  },
  {
   "cell_type": "code",
   "execution_count": null,
   "metadata": {},
   "outputs": [],
   "source": [
    "# this will give you the number of rows in the complete library file \n",
    "# this should be the number of annotated libraries\n",
    "ann_lib = len(library_file_complete.index)\n",
    "len(library_file_complete.index)"
   ]
  },
  {
   "cell_type": "code",
   "execution_count": null,
   "metadata": {},
   "outputs": [],
   "source": [
    "# partial or total\n",
    "experiment.loc[:,'experimentStatus'] = ''\n",
    "experiment.loc[:,'projectTags'] = '' \n",
    "# see above cell, also can add as free text\n",
    "experiment.loc[:,'numberOfAnnotatedLibraries'] = ann_lib\n",
    "\n",
    "# these variables should already exist from above but if not can just add as free text\n",
    "experiment.loc[:,'protocol'] = my_protocol\n",
    "experiment.loc[:,'protocolType'] = my_protocolType\n",
    "\n",
    "display_df(experiment)"
   ]
  },
  {
   "cell_type": "markdown",
   "metadata": {},
   "source": [
    "#### paper and xrefs"
   ]
  },
  {
   "cell_type": "code",
   "execution_count": null,
   "metadata": {},
   "outputs": [],
   "source": [
    "#experiment.loc[:,'GSE'] = ''\n",
    "#experiment.loc[:,'Bioproject'] = '' \n",
    "experiment.loc[:,'PMID'] = ''\n",
    "experiment.loc[:,'reference_url'] = ''\n",
    "experiment.loc[:,'DOI'] = ''\n",
    "#experiment.loc[:,'xrefs'] = ''\n",
    "\n",
    "display_df(experiment)"
   ]
  },
  {
   "cell_type": "markdown",
   "metadata": {},
   "source": [
    "#### comments"
   ]
  },
  {
   "cell_type": "code",
   "execution_count": null,
   "metadata": {},
   "outputs": [],
   "source": [
    "#experiment.loc[:,'comment'] = ''\n",
    "\n",
    "display_df(experiment)"
   ]
  },
  {
   "cell_type": "markdown",
   "metadata": {},
   "source": [
    "#### save complete file"
   ]
  },
  {
   "cell_type": "code",
   "execution_count": null,
   "metadata": {},
   "outputs": [],
   "source": [
    "experiment.to_csv(experiment_to_add_path, sep=\"\\t\", index=False, quoting=csv.QUOTE_ALL)"
   ]
  },
  {
   "cell_type": "markdown",
   "metadata": {},
   "source": [
    "### QA time"
   ]
  },
  {
   "cell_type": "code",
   "execution_count": null,
   "metadata": {},
   "outputs": [],
   "source": [
    "library_to_add = pd.read_csv(library_to_add_path, sep='\\t', index_col=False, keep_default_na=False, na_values=['NULL','null', 'nan','NaN'], dtype=object)\n",
    "experiment_to_add = pd.read_csv(experiment_to_add_path, sep='\\t', index_col=False, keep_default_na=False, na_values=['NULL','null', 'nan','NaN'], dtype=object)"
   ]
  },
  {
   "cell_type": "markdown",
   "metadata": {},
   "source": [
    "#### to add things here"
   ]
  },
  {
   "cell_type": "markdown",
   "metadata": {},
   "source": [
    "#### check columns match"
   ]
  },
  {
   "cell_type": "code",
   "execution_count": null,
   "metadata": {},
   "outputs": [],
   "source": [
    "# pull from git and pull in library/experiment file\n",
    "! git pull\n",
    "git_library = pd.read_csv(git_library_path, sep='\\t', index_col=False, keep_default_na=False, na_values=['NULL','null', 'nan','NaN'], dtype=object)\n",
    "git_experiment = pd.read_csv(git_experiment_path, sep='\\t', index_col=False, keep_default_na=False, na_values=['NULL','null', 'nan','NaN'], dtype=object)\n",
    "\n",
    "# library file\n",
    "if set(library_to_add.columns) == set(git_library.columns):\n",
    "    print('The columns in the library file match')\n",
    "else:\n",
    "    print('The columns in the library file DO NOT MATCH')\n",
    "\n",
    "# experiment file\n",
    "if set(experiment_to_add.columns) == set(git_experiment.columns):\n",
    "    print('The columns in the experiment file match')\n",
    "else:\n",
    "    print('The columns in the experiment file DO NOT MATCH')\n",
    "\n",
    "\n",
    "# maybe to make this something more like \"COLUMNS GOOD - LIBRARY\" and \"COLUMNS BAD - EXPERIMENT\""
   ]
  },
  {
   "cell_type": "markdown",
   "metadata": {},
   "source": [
    "#### view files"
   ]
  },
  {
   "cell_type": "code",
   "execution_count": null,
   "metadata": {},
   "outputs": [],
   "source": [
    "library_git_plus_new = pd.concat([git_library, library_to_add], ignore_index = True, sort = False)\n",
    "library_git_plus_new.tail(n=10)"
   ]
  },
  {
   "cell_type": "code",
   "execution_count": null,
   "metadata": {},
   "outputs": [],
   "source": [
    "experiment_git_plus_new = pd.concat([git_experiment, experiment_to_add], ignore_index = True, sort = False)\n",
    "experiment_git_plus_new.tail(n=5)"
   ]
  },
  {
   "cell_type": "markdown",
   "metadata": {},
   "source": [
    "### add annotations to git"
   ]
  },
  {
   "cell_type": "code",
   "execution_count": null,
   "metadata": {},
   "outputs": [],
   "source": [
    "! git pull"
   ]
  },
  {
   "cell_type": "code",
   "execution_count": null,
   "metadata": {},
   "outputs": [],
   "source": [
    "library_git_plus_new.to_csv(git_library_path, sep=\"\\t\", index=False, quoting=csv.QUOTE_ALL)\n",
    "experiment_git_plus_new.to_csv(git_experiment_path, sep=\"\\t\", index=False, quoting=csv.QUOTE_ALL)\n",
    "update_format(git_library_path)\n",
    "update_format(git_experiment_path)"
   ]
  },
  {
   "cell_type": "code",
   "execution_count": null,
   "metadata": {},
   "outputs": [],
   "source": [
    "! git status"
   ]
  },
  {
   "cell_type": "code",
   "execution_count": null,
   "metadata": {},
   "outputs": [],
   "source": [
    "! git add $git_experiment_path $git_library_path"
   ]
  },
  {
   "cell_type": "code",
   "execution_count": null,
   "metadata": {},
   "outputs": [],
   "source": [
    "! git commit -m $commit_message_exp"
   ]
  },
  {
   "cell_type": "code",
   "execution_count": null,
   "metadata": {},
   "outputs": [],
   "source": [
    "! git push"
   ]
  },
  {
   "cell_type": "markdown",
   "metadata": {},
   "source": [
    "### add annotation folder and script to git"
   ]
  },
  {
   "cell_type": "code",
   "execution_count": null,
   "metadata": {},
   "outputs": [],
   "source": [
    "! git status"
   ]
  },
  {
   "cell_type": "markdown",
   "metadata": {},
   "source": [
    "1. run first two cells (annotation summary)\n",
    "2. export as html"
   ]
  },
  {
   "cell_type": "code",
   "execution_count": null,
   "metadata": {},
   "outputs": [],
   "source": [
    "! git add $path_to_output"
   ]
  },
  {
   "cell_type": "code",
   "execution_count": null,
   "metadata": {},
   "outputs": [],
   "source": [
    "! git commit -m $commit_message_py"
   ]
  },
  {
   "cell_type": "code",
   "execution_count": null,
   "metadata": {},
   "outputs": [],
   "source": [
    "! git push"
   ]
  }
 ],
 "metadata": {
  "kernelspec": {
   "display_name": "scRNA",
   "language": "python",
   "name": "python3"
  },
  "language_info": {
   "codemirror_mode": {
    "name": "ipython",
    "version": 3
   },
   "file_extension": ".py",
   "mimetype": "text/x-python",
   "name": "python",
   "nbconvert_exporter": "python",
   "pygments_lexer": "ipython3",
   "version": "3.12.3"
  }
 },
 "nbformat": 4,
 "nbformat_minor": 2
}
