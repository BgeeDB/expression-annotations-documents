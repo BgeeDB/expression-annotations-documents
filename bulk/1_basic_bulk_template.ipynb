{
 "cells": [
  {
   "cell_type": "markdown",
   "metadata": {},
   "source": [
    "## Basic Bulk Template - manual annotation\n",
    "\n",
    "this is an incredibly basic bulk annotation template. \n",
    "\n",
    "automated parts:\n",
    "* running create experiment script\n",
    "* adding new annotations (for library and experiment file) to master files in git\n",
    "* pushing to git\n",
    "\n",
    "manual parts:\n",
    "* all annotation!!!\n",
    "\n",
    "more auotmated parts can be added if you want but i thought we could start here"
   ]
  },
  {
   "cell_type": "code",
   "execution_count": null,
   "metadata": {},
   "outputs": [],
   "source": [
    "# examples: SRP427903 or SRP432863\n",
    "## manual every time (although could somewhat automated path_to_output)\n",
    "experiment_id = \"\"\n",
    "path_to_output = \"\" ## could set this as a default folder and append the experiment_id\n",
    "## YYYY-MM-DD\n",
    "my_date = \"2024-\"\n",
    "\n",
    "\n",
    "## set once\n",
    "path_to_create_exp_script = \"\" ## could also make this path to scripts but kinda unnecessary for bulk\n",
    "path_to_git_annotations = \"\"\n",
    "\n",
    "## always the same\n",
    "experiment_type = \"bulk\"\n",
    "library_path  = \"{}RNASeqLibrary_{}.tsv\".format(path_to_output, experiment_id)\n",
    "experiment_path = \"{}RNASeqExperiment_{}.tsv\".format(path_to_output, experiment_id)\n",
    "git_library_path = \"{}RNASeqLibrary.tsv\".format(path_to_git_annotations)\n",
    "git_experiment_path = \"{}RNASeqExperiment.tsv\".format(path_to_git_annotations)\n",
    "\n",
    "commit_message_exp = '\"adding annotated bulk experiment {}\"'.format(experiment_id)\n",
    "\n",
    "library_cols = ['#libraryId', 'experimentId', 'platform', 'SRSId', 'anatId', 'anatName', 'stageId', 'stageName', 'url_GSM', 'infoOrgan', 'infoStage', 'anatAnnotationStatus', 'anatBiologicalStatus', 'stageAnnotationStatus', 'sex', 'strain', 'genotype', 'speciesId', 'protocol', 'protocolType', 'RNASelection', 'globin_reduction', 'replicate', 'lib_name', 'sampleName', 'sampleAge_value', 'sampleAge_unit', 'PATOid', 'PATOname','comment', 'condition', 'physiologicalStatus', 'annotatorId', 'lastModificationDate']\n"
   ]
  },
  {
   "cell_type": "code",
   "execution_count": null,
   "metadata": {},
   "outputs": [],
   "source": [
    "import warnings\n",
    "warnings.simplefilter(action='ignore', category=FutureWarning)\n",
    "import pandas as pd\n",
    "import numpy as np\n",
    "from IPython.display import display, HTML\n",
    "import os\n",
    "import csv\n",
    "pd.set_option('display.max_columns', 500)\n",
    "\n",
    "# displays df with the scrollbar next to the DataFrame\n",
    "def display_df(df):\n",
    "    pd.set_option(\"display.max_rows\", None)\n",
    "    pd.set_option(\"display.max_columns\", None)\n",
    "    display(HTML(\"<div style='height: 300px; overflow: auto; width: fit-content'>\" +\n",
    "        df.style.to_html(index=False) + \"</div>\"))\n",
    "\n",
    "# fixes formatting of file to match libreoffice settings/historic file format\n",
    "def update_format(path):\n",
    "    with open(path, 'r') as file:\n",
    "        filedata = file.read()\n",
    "    # Replace the target string\n",
    "    filedata = filedata.replace(\"\\t\\\"\\\"\", \"\\t\")\n",
    "    # Write the file out again\n",
    "    with open(path, 'w') as file:\n",
    "        file.write(filedata)\n",
    "\n",
    "# checks for duplicate values in a specific column and prints those values + the corresponding library id\n",
    "def dup_check(df, column):\n",
    "    duplicateCheck = df.duplicated(subset=[column], keep=False)\n",
    "    duplicateCheck.sort_values(inplace=True)\n",
    "    if duplicateCheck.unique().any() == False:\n",
    "        print(\"no duplicate values in \" + column)\n",
    "    elif duplicateCheck.unique().any() == True and column != '#libraryId':\n",
    "        dups = df[duplicateCheck].loc[:,['#libraryId', column]]\n",
    "        df_dups = pd.DataFrame(dups)\n",
    "        df_dups.sort_values(inplace=True, by=column)\n",
    "        print(df_dups)\n",
    "    elif duplicateCheck.unique().any() == True and column == '#libraryId':\n",
    "        print(df[duplicateCheck].loc[:,['#libraryId']])"
   ]
  },
  {
   "cell_type": "markdown",
   "metadata": {},
   "source": [
    "### script - create experiment/library files "
   ]
  },
  {
   "cell_type": "code",
   "execution_count": null,
   "metadata": {},
   "outputs": [],
   "source": [
    "! python3 $path_to_create_exp_script $experiment_id $path_to_output $experiment_type"
   ]
  },
  {
   "cell_type": "markdown",
   "metadata": {},
   "source": [
    "### can add automation to annotation here\n",
    "\n",
    "this is where i could write code to make things easier but to discuss details"
   ]
  },
  {
   "cell_type": "code",
   "execution_count": null,
   "metadata": {},
   "outputs": [],
   "source": [
    "# this bit will just add your initials for annotator ID\n",
    "library = pd.read_csv(library_path, sep='\\t', index_col=False, keep_default_na=False, na_values=['NULL','null', 'nan','NaN'], dtype=object)\n",
    "library.loc[:,'annotatorId'] = 'ANN'\n",
    "library.to_csv(library_path, sep=\"\\t\", index=False, quoting=csv.QUOTE_ALL)"
   ]
  },
  {
   "cell_type": "markdown",
   "metadata": {},
   "source": [
    "### annotation complete - check files and QA"
   ]
  },
  {
   "cell_type": "code",
   "execution_count": null,
   "metadata": {},
   "outputs": [],
   "source": [
    "library_file = pd.read_csv(library_path, sep='\\t', index_col=False, keep_default_na=False, na_values=['NULL','null', 'nan','NaN'], dtype=object)\n",
    "experiment_to_add = pd.read_csv(experiment_path, sep='\\t', index_col=False, keep_default_na=False, na_values=['NULL','null', 'nan','NaN'], dtype=object)\n",
    "# choose columns from library file that are needed in main file\n",
    "library_to_add = library_file[library_cols]"
   ]
  },
  {
   "cell_type": "code",
   "execution_count": null,
   "metadata": {},
   "outputs": [],
   "source": [
    "library_to_add.loc[:,'lastModificationDate'] = my_date"
   ]
  },
  {
   "cell_type": "markdown",
   "metadata": {},
   "source": [
    "#### more QA can be added here - this is minimum to check (columns match, view the file that will be created)"
   ]
  },
  {
   "cell_type": "markdown",
   "metadata": {},
   "source": [
    "#### check files before adding"
   ]
  },
  {
   "cell_type": "code",
   "execution_count": null,
   "metadata": {},
   "outputs": [],
   "source": [
    "# check for duplicate SRSId values (replicates)\n",
    "dup_check(library, \"SRSId\")"
   ]
  },
  {
   "cell_type": "code",
   "execution_count": null,
   "metadata": {},
   "outputs": [],
   "source": [
    "! git pull"
   ]
  },
  {
   "cell_type": "code",
   "execution_count": null,
   "metadata": {},
   "outputs": [],
   "source": [
    "git_library = pd.read_csv(git_library_path, sep='\\t', index_col=False, keep_default_na=False, na_values=['NULL','null', 'nan','NaN'], dtype=object)\n",
    "git_experiment = pd.read_csv(git_experiment_path, sep='\\t', index_col=False, keep_default_na=False, na_values=['NULL','null', 'nan','NaN'], dtype=object)"
   ]
  },
  {
   "cell_type": "code",
   "execution_count": null,
   "metadata": {},
   "outputs": [],
   "source": [
    "# library file\n",
    "if set(library_to_add.columns) == set(git_library.columns):\n",
    "    print('The columns in the library file to append match the columns in the main library file')\n",
    "else:\n",
    "    print('The columns in the library file to append DO NOT MATCH the columns in the main library file')\n",
    "\n",
    "# experiment file\n",
    "if set(experiment_to_add.columns) == set(git_experiment.columns):\n",
    "    print('The columns in the experiment file to append match the columns in the main experiment file')\n",
    "else:\n",
    "    print('The columns in the experiment file to append DO NOT MATCH the columns in the main experiment file')\n",
    "\n",
    "\n",
    "# maybe to make this something more like \"COLUMNS GOOD - LIBRARY\" and \"COLUMNS BAD - EXPERIMENT\""
   ]
  },
  {
   "cell_type": "code",
   "execution_count": null,
   "metadata": {},
   "outputs": [],
   "source": [
    "library_git_plus_new = pd.concat([git_library, library_to_add], ignore_index = True, sort = False)\n",
    "## ideally set n to larger than the number of rows you are adding\n",
    "library_git_plus_new.tail(n = 20)"
   ]
  },
  {
   "cell_type": "code",
   "execution_count": null,
   "metadata": {},
   "outputs": [],
   "source": [
    "experiment_git_plus_new = pd.concat([git_experiment, experiment_to_add], ignore_index = True, sort = False)\n",
    "experiment_git_plus_new.tail()"
   ]
  },
  {
   "cell_type": "markdown",
   "metadata": {},
   "source": [
    "### add to git"
   ]
  },
  {
   "cell_type": "markdown",
   "metadata": {},
   "source": [
    "#### stop here - if you make manual changes to your file you need to start again at check new annotations - the next few steps will add to github"
   ]
  },
  {
   "cell_type": "code",
   "execution_count": null,
   "metadata": {},
   "outputs": [],
   "source": [
    "! git pull"
   ]
  },
  {
   "cell_type": "code",
   "execution_count": null,
   "metadata": {},
   "outputs": [],
   "source": [
    "library_git_plus_new.to_csv(git_library_path, sep=\"\\t\", index=False, quoting=csv.QUOTE_ALL)\n",
    "experiment_git_plus_new.to_csv(git_experiment_path, sep=\"\\t\", index=False, quoting=csv.QUOTE_ALL)\n",
    "update_format(git_library_path)\n",
    "update_format(git_experiment_path)"
   ]
  },
  {
   "cell_type": "code",
   "execution_count": null,
   "metadata": {},
   "outputs": [],
   "source": [
    "! git status"
   ]
  },
  {
   "cell_type": "code",
   "execution_count": null,
   "metadata": {},
   "outputs": [],
   "source": [
    "! git add $git_experiment_path $git_library_path"
   ]
  },
  {
   "cell_type": "code",
   "execution_count": null,
   "metadata": {},
   "outputs": [],
   "source": [
    "# manual message\n",
    "! git commit -m \"add message here (could even automate this if you want)\"\n",
    "# automated message\n",
    "! git commit -m $commit_message_exp"
   ]
  },
  {
   "cell_type": "code",
   "execution_count": null,
   "metadata": {},
   "outputs": [],
   "source": [
    "! git push"
   ]
  }
 ],
 "metadata": {
  "kernelspec": {
   "display_name": "Python 3",
   "language": "python",
   "name": "python3"
  },
  "language_info": {
   "name": "python",
   "version": "3.8.2"
  }
 },
 "nbformat": 4,
 "nbformat_minor": 2
}
