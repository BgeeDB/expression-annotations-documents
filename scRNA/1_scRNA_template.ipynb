{
 "cells": [
  {
   "cell_type": "markdown",
   "metadata": {},
   "source": [
    "## title\n",
    "\n",
    "**paper:** []() - \n",
    "\n",
    "**date, curator:** 2025-0, Sara Carsanaro\n",
    "\n",
    "**resources**\n",
    "\n",
    "**notes**"
   ]
  },
  {
   "cell_type": "markdown",
   "metadata": {},
   "source": [
    "### annotation summary\n",
    "run these when annotation is complete"
   ]
  },
  {
   "cell_type": "code",
   "execution_count": null,
   "metadata": {},
   "outputs": [],
   "source": [
    "# cell type annotations\n",
    "display_df(cell_df_complete)"
   ]
  },
  {
   "cell_type": "code",
   "execution_count": null,
   "metadata": {},
   "outputs": [],
   "source": [
    "# organ annotations\n",
    "display_df(organ_df_complete)"
   ]
  },
  {
   "cell_type": "code",
   "execution_count": null,
   "metadata": {},
   "outputs": [],
   "source": [
    "# stage annotations\n",
    "display_df(stage_df_complete)"
   ]
  },
  {
   "cell_type": "markdown",
   "metadata": {},
   "source": [
    "### set variables, import packages, define functions"
   ]
  },
  {
   "cell_type": "code",
   "execution_count": 19,
   "metadata": {},
   "outputs": [],
   "source": [
    "experiment_id = \"\"\n",
    "\n",
    "path_to_create_exp_script = \"/Users/scarsana/Desktop/git/scRNA-Seq/scripts/Create_ExpLib_tables.py\" \n",
    "path_to_barcodes_script = \"/Users/scarsana/Desktop/git/scRNA-Seq/scripts/create_scRNASeq_barcode_v2.py\"\n",
    "experiment_type = \"scRNA\"\n",
    "import os\n",
    "\n",
    "\n",
    "path_to_output_main = \"/Users/scarsana/Desktop/git/expression-annotations/Notebooks/scRNA/\" \n",
    "path_to_output = \"{}{}/\".format(path_to_output_main, experiment_id)\n",
    "\n",
    "path_to_initial_folder = \"{}initial/\".format(path_to_output)\n",
    "if not os.path.exists(path_to_initial_folder):\n",
    "    os.makedirs(path_to_initial_folder)\n",
    "\n",
    "library_path_from_script = \"{}scRNASeqLibrary_{}.tsv\".format(path_to_initial_folder, experiment_id)\n",
    "experiment_path_from_script = \"{}scRNASeqExperiment_{}.tsv\".format(path_to_initial_folder, experiment_id)\n",
    "barcode_path = \"{}scRNASeq_barcode_{}.tsv\".format(path_to_initial_folder, experiment_id)\n",
    "\n",
    "\n",
    "path_to_complete_folder = \"{}complete/\".format(path_to_output)\n",
    "if not os.path.exists(path_to_complete_folder):\n",
    "    os.makedirs(path_to_complete_folder)\n",
    "\n",
    "barcode_to_add_path = \"{}complete_scRNASeq_barcode_{}.tsv\".format(path_to_complete_folder, experiment_id)\n",
    "library_to_add_path = \"{}complete_scRNASeqLibrary_{}.tsv\".format(path_to_complete_folder, experiment_id)\n",
    "experiment_to_add_path = \"{}complete_RNASeqExperiment_{}.tsv\".format(path_to_complete_folder, experiment_id)\n",
    "script_file = \"{}.ipynb\".format(experiment_id)\n",
    "commit_message_exp = '\"adding annotated scRNA experiment {}\"'.format(experiment_id)\n",
    "commit_message_py = '\"adding annotation files for {} to notebook folder\"'.format(experiment_id)\n",
    "\n",
    "\n",
    "## to add to git\n",
    "path_to_git_annotations = \"/Users/scarsana/Desktop/git/expression-annotations/scRNA_Seq/\"\n",
    "git_library_path = \"{}scRNASeqLibrary_merged.tsv\".format(path_to_git_annotations)\n",
    "git_experiment_path = \"{}scRNASeqExperiment.tsv\".format(path_to_git_annotations)\n",
    "git_barcode_path = \"{}scRNASeq_barcode_{}.tsv\".format(path_to_git_annotations, experiment_id)\n",
    "\n",
    "## columns\n",
    "library_cols = ['#libraryId', 'experimentId', 'platform', 'SRSId', 'anatId', 'anatName', 'cellTypeId', 'cellTypeName', 'stageId', 'stageName', 'url_GSM', 'infoOrgan', 'infoCellType_abInitio', 'infoCellType_inferred', 'clusterId', 'clusterName', 'infoStage', 'anatAnnotationStatus', 'cellTypeAnnotationStatus', 'stageAnnotationStatus', 'sex', 'strain', 'genotype', 'speciesId', 'RNAseqTags', 'protocol', 'protocolType', 'lib_name', 'sampleName', 'comment', 'condition', 'annotatorId', 'lastModificationDate']\n",
    "barcode_cols = ['barcode', 'cluster', 'library', 'experiment', 'tissue', 'cell_type', 'anatId_a_posteriori', 'anatName_a_posteriori', 'anat_a_posteriori_annotationStatus', 'cellTypeId', 'cellTypeName', 'cellTypeAnnotationStatus', 'name_Library', 'comments']\n",
    "\n",
    "## annotation sheet paths (maybe make these into their own folder)\n",
    "annotation_files_path = \"{}annotation_files/\".format(path_to_output)\n",
    "\n",
    "if not os.path.exists(annotation_files_path):\n",
    "    os.makedirs(annotation_files_path)\n",
    "\n",
    "info_anat_path = \"{}info_anat.tsv\".format(annotation_files_path)\n",
    "info_anat_complete_path = \"{}info_anat_complete.tsv\".format(annotation_files_path)\n",
    "info_stage_path = \"{}info_dev_stage.tsv\".format(annotation_files_path)\n",
    "info_stage_complete_path = \"{}info_dev_stage_complete.tsv\".format(annotation_files_path)\n",
    "info_celltype_path = \"{}info_celltype.tsv\".format(annotation_files_path)\n",
    "info_celltype_complete_path = \"{}info_celltype_complete.tsv\".format(annotation_files_path)\n",
    "\n",
    "## barcode file & matching library names - 10X only\n",
    "path_to_barcode_file = \"{}barcode_{}.tsv\".format(path_to_output, experiment_id)\n",
    "lib_names_path = \"{}matching_lib_names_{}.tsv\".format(path_to_initial_folder, experiment_id)\n",
    "\n"
   ]
  },
  {
   "cell_type": "code",
   "execution_count": null,
   "metadata": {},
   "outputs": [],
   "source": [
    "import warnings\n",
    "warnings.simplefilter(action='ignore', category=FutureWarning)\n",
    "import pandas as pd\n",
    "import numpy as np\n",
    "from IPython.display import display, HTML\n",
    "import csv\n",
    "import scanpy as sc\n",
    "\n",
    "# displays df with the scrollbar next to the DataFrame\n",
    "def display_df(df):\n",
    "    pd.set_option(\"display.max_rows\", None)\n",
    "    pd.set_option(\"display.max_columns\", None)\n",
    "    display(HTML(\"<div style='height: 200px; overflow: auto; width: fit-content'>\" +\n",
    "        df.style.to_html(index=False) + \"</div>\"))\n",
    "\n",
    "# function that compares two columns in a dataframe and tells you which ones are not equal (case insensitive)\n",
    "def compare_columns(df, col1, col2, return_col):\n",
    "    compare_return = df[col1].str.lower() != df[col2].str.lower()  \n",
    "    df.loc[compare_return, return_col] \n",
    "    if not any(compare_return):\n",
    "        print(\"The two columns are equal (case insensitive)\")\n",
    "    else:\n",
    "        print(\"The following rows are not equal: \")\n",
    "        print(df.loc[compare_return, [return_col, col1, col2]])\n",
    "\n",
    "# fixes formatting of file to match libreoffice settings/historic file format\n",
    "def update_format(path):\n",
    "    with open(path, 'r') as file:\n",
    "        filedata = file.read()\n",
    "    # Replace the target string\n",
    "    filedata = filedata.replace(\"\\t\\\"\\\"\", \"\\t\")\n",
    "    # Write the file out again\n",
    "    with open(path, 'w') as file:\n",
    "        file.write(filedata)\n",
    "\n",
    "# checks for duplicate values in a specific column and prints those values + the corresponding library id\n",
    "def dup_check(df, column):\n",
    "    duplicateCheck = df.duplicated(subset=[column], keep=False)\n",
    "    duplicateCheck.sort_values(inplace=True)\n",
    "    if duplicateCheck.unique().any() == False:\n",
    "        print(\"no duplicate values in \" + column)\n",
    "    elif duplicateCheck.unique().any() == True and column != '#libraryId':\n",
    "        dups = df[duplicateCheck].loc[:,['#libraryId', column]]\n",
    "        df_dups = pd.DataFrame(dups)\n",
    "        df_dups.sort_values(inplace=True, by=column)\n",
    "        print(df_dups)\n",
    "    elif duplicateCheck.unique().any() == True and column == '#libraryId':\n",
    "        print(df[duplicateCheck].loc[:,['#libraryId']])\n",
    "\n",
    "# prints all unique values in a specific column\n",
    "def unique_sorted(df, column):\n",
    "    unique = df[column].unique()\n",
    "    unique.sort()\n",
    "    print(unique)"
   ]
  },
  {
   "cell_type": "markdown",
   "metadata": {},
   "source": [
    "### 10X - barcodes and annotations\n",
    "before annotating a 10X experiment it is important to ensure that the barcodes and cell type annotations are available. places to check include GEO, supplemental materials of the paper, email the authors, github for project\n",
    "\n",
    "below is code for h5ad, h5, and csv files. rds files should be accessed in R with readRDS "
   ]
  },
  {
   "cell_type": "code",
   "execution_count": null,
   "metadata": {},
   "outputs": [],
   "source": [
    "# h5ad file metadata access\n",
    "adata = sc.read(\"\")\n",
    "metadata = adata.obs"
   ]
  },
  {
   "cell_type": "code",
   "execution_count": null,
   "metadata": {},
   "outputs": [],
   "source": [
    "# h5 file metadata access\n",
    "h5 = h5py.File(\"\",'r')\n",
    "# most likely place for metadata is attrs\n",
    "# also can use keys() instead of items to just get the names\n",
    "print(list(h5.attrs.items()))\n",
    "print(list(h5.items()))"
   ]
  },
  {
   "cell_type": "code",
   "execution_count": null,
   "metadata": {},
   "outputs": [],
   "source": [
    "meta = h5.attrs.get('')\n",
    "meta = h5.get('')"
   ]
  },
  {
   "cell_type": "code",
   "execution_count": null,
   "metadata": {},
   "outputs": [],
   "source": [
    "# csv file metadata access"
   ]
  },
  {
   "cell_type": "markdown",
   "metadata": {},
   "source": [
    "### script"
   ]
  },
  {
   "cell_type": "code",
   "execution_count": null,
   "metadata": {},
   "outputs": [],
   "source": [
    "! python3 $path_to_create_exp_script $experiment_id $path_to_initial_folder $experiment_type"
   ]
  },
  {
   "cell_type": "markdown",
   "metadata": {},
   "source": [
    "### library annnotations"
   ]
  },
  {
   "cell_type": "code",
   "execution_count": null,
   "metadata": {},
   "outputs": [],
   "source": [
    "library = pd.read_csv(library_path_from_script, sep='\\t', index_col=False, keep_default_na=False, na_values=['NULL','null', 'nan','NaN', \" \"], dtype=object)\n",
    "display_df(library)"
   ]
  },
  {
   "cell_type": "markdown",
   "metadata": {},
   "source": [
    "#### anatomical entity\n",
    "* [OLS Uberon](https://www.ebi.ac.uk/ols4/ontologies/uberon)"
   ]
  },
  {
   "cell_type": "code",
   "execution_count": null,
   "metadata": {},
   "outputs": [],
   "source": [
    "infoOrgan = library['infoOrgan'].drop_duplicates().sort_values()\n",
    "organ_df = pd.DataFrame(infoOrgan)\n",
    "organ_df = organ_df.reindex(columns=[*organ_df.columns.tolist(), 'notes_anat', 'anatId_', 'anatName_', 'anatAnnotationStatus_', 'infoOrgan_new', 'comment_anat'], fill_value=\"\")\n",
    "organ_df.to_csv(info_anat_path, sep=\"\\t\", index=False, quoting=csv.QUOTE_ALL)\n",
    "if not os.path.exists(info_anat_complete_path): \n",
    "    organ_df.to_csv(info_anat_complete_path, sep=\"\\t\", index=False, quoting=csv.QUOTE_ALL)\n",
    "\n",
    "# options for anatAnnotationStatus: perfect match, missing child term, other"
   ]
  },
  {
   "cell_type": "code",
   "execution_count": null,
   "metadata": {},
   "outputs": [],
   "source": [
    "organ_df_complete = pd.read_csv(info_anat_complete_path, sep='\\t', index_col=False, keep_default_na=False, na_values=['NULL','null', 'nan','NaN', \" \"], dtype=object)\n",
    "display_df(organ_df_complete)"
   ]
  },
  {
   "cell_type": "code",
   "execution_count": null,
   "metadata": {},
   "outputs": [],
   "source": [
    "library = library.merge(organ_df_complete, left_on='infoOrgan', right_on='infoOrgan')"
   ]
  },
  {
   "cell_type": "code",
   "execution_count": null,
   "metadata": {},
   "outputs": [],
   "source": [
    "library['anatId'] = library['anatId_'].values\n",
    "library['anatName'] = library['anatName_'].values\n",
    "library['anatAnnotationStatus'] = library['anatAnnotationStatus_'].values"
   ]
  },
  {
   "cell_type": "code",
   "execution_count": null,
   "metadata": {},
   "outputs": [],
   "source": [
    "## optional - update infoOrgan, add anat-specific comments \n",
    "#library['infoOrgan'] = library['infoOrgan_new'].values\n",
    "#library['comment'] = library[['comment', 'comment_anat']].agg(' '.join, axis=1)"
   ]
  },
  {
   "cell_type": "code",
   "execution_count": null,
   "metadata": {},
   "outputs": [],
   "source": [
    "# reformat, save progress\n",
    "library = library[library_cols]\n",
    "display_df(library)\n",
    "library.to_csv(library_to_add_path, sep=\"\\t\", index=False, quoting=csv.QUOTE_ALL)"
   ]
  },
  {
   "cell_type": "markdown",
   "metadata": {},
   "source": [
    "#### stage\n",
    "- [species specific developmental ontologies](https://github.com/obophenotype/developmental-stage-ontologies/tree/master/src/ontology/components)"
   ]
  },
  {
   "cell_type": "code",
   "execution_count": null,
   "metadata": {},
   "outputs": [],
   "source": [
    "infoStage = library['infoStage'].drop_duplicates().sort_values()\n",
    "stage_df = pd.DataFrame(infoStage)\n",
    "stage_df = stage_df.reindex(columns=[*stage_df.columns.tolist(), 'notes_stage', 'stageId_', 'stageName_', 'stageAnnotationStatus_', 'infoStage_new','comment_stage'], fill_value=\"\")\n",
    "stage_df.to_csv(info_stage_path, sep=\"\\t\", index=False, quoting=csv.QUOTE_ALL)\n",
    "if not os.path.exists(info_stage_complete_path): \n",
    "    stage_df.to_csv(info_stage_complete_path, sep=\"\\t\", index=False, quoting=csv.QUOTE_ALL)\n",
    "\n",
    "# options for stageAnnotationStatus: perfect match, missing child term, other"
   ]
  },
  {
   "cell_type": "code",
   "execution_count": null,
   "metadata": {},
   "outputs": [],
   "source": [
    "stage_df_complete = pd.read_csv(info_stage_complete_path, sep='\\t', index_col=False, keep_default_na=False, na_values=['NULL','null', 'nan','NaN', \" \"], dtype=object)\n",
    "display_df(stage_df_complete)"
   ]
  },
  {
   "cell_type": "code",
   "execution_count": null,
   "metadata": {},
   "outputs": [],
   "source": [
    "library = library.merge(stage_df_complete, left_on='infoStage', right_on='infoStage')"
   ]
  },
  {
   "cell_type": "code",
   "execution_count": null,
   "metadata": {},
   "outputs": [],
   "source": [
    "library['stageId'] = library['stageId_'].values\n",
    "library['stageName'] = library['stageName_'].values\n",
    "library['stageAnnotationStatus'] = library['stageAnnotationStatus_'].values"
   ]
  },
  {
   "cell_type": "code",
   "execution_count": null,
   "metadata": {},
   "outputs": [],
   "source": [
    "## optional - update infoOrgan, add anat-specific comments \n",
    "#library['infoStage'] = library['infoStage_new'].values\n",
    "#library['comment'] = library[['comment', 'comment_stage']].agg(' '.join, axis=1)"
   ]
  },
  {
   "cell_type": "code",
   "execution_count": null,
   "metadata": {},
   "outputs": [],
   "source": [
    "# reformat, save progress\n",
    "library = library[library_cols]\n",
    "display_df(library)\n",
    "library.to_csv(library_to_add_path, sep=\"\\t\", index=False, quoting=csv.QUOTE_ALL)"
   ]
  },
  {
   "cell_type": "markdown",
   "metadata": {},
   "source": [
    "#### cell type - smart-seq\n",
    "* [OLS Cell Ontology](https://www.ebi.ac.uk/ols4/ontologies/cl)"
   ]
  },
  {
   "cell_type": "code",
   "execution_count": null,
   "metadata": {},
   "outputs": [],
   "source": [
    "cell_type = library['infoCellType_abInitio'].drop_duplicates().sort_values()\n",
    "cell_df = pd.DataFrame(cell_type)\n",
    "cell_df = cell_df.reindex(columns=[*cell_df.columns.tolist(), 'notes_cell', 'cellTypeId_', 'cellTypeName_', 'cellTypeAnnotationStatus_', 'cell_type_new','comment_cell'], fill_value=\"\")\n",
    "cell_df.to_csv(info_celltype_path, sep=\"\\t\", index=False)\n",
    "if not os.path.exists(info_celltype_complete_path): \n",
    "    cell_df.to_csv(info_celltype_complete_path, sep=\"\\t\", index=False)"
   ]
  },
  {
   "cell_type": "code",
   "execution_count": null,
   "metadata": {},
   "outputs": [],
   "source": [
    "cell_df_complete = pd.read_csv(info_celltype_complete_path, sep='\\t', index_col=False, keep_default_na=False, na_values=['NULL','null', 'nan','NaN', \" \"], dtype=object)\n",
    "display_df(cell_df_complete)"
   ]
  },
  {
   "cell_type": "code",
   "execution_count": null,
   "metadata": {},
   "outputs": [],
   "source": [
    "library = library.merge(cell_df_complete, left_on='infoCellType_abInitio', right_on='infoCellType_abInitio')"
   ]
  },
  {
   "cell_type": "code",
   "execution_count": null,
   "metadata": {},
   "outputs": [],
   "source": [
    "library['cellTypeId'] = library['cellTypeId_'].values\n",
    "library['cellTypeName'] = library['cellTypeName_'].values\n",
    "library['cellTypeAnnotationStatus'] = library['cellTypeAnnotationStatus_'].values"
   ]
  },
  {
   "cell_type": "code",
   "execution_count": null,
   "metadata": {},
   "outputs": [],
   "source": [
    "## optional - update infoOrgan, add anat-specific comments \n",
    "#library['infoCellType_inferred'] = library['cell_type_new'].values\n",
    "#library['comment'] = library[['comment', 'comment_cell']].agg(' '.join, axis=1)"
   ]
  },
  {
   "cell_type": "code",
   "execution_count": null,
   "metadata": {},
   "outputs": [],
   "source": [
    "# reformat, save progress\n",
    "library = library[library_cols]\n",
    "display_df(library)\n",
    "library.to_csv(library_to_add_path, sep=\"\\t\", index=False, quoting=csv.QUOTE_ALL)"
   ]
  },
  {
   "cell_type": "markdown",
   "metadata": {},
   "source": [
    "#### sex, strain, genotype, speciesId\n",
    "- uniprot [strain list](https://ftp.uniprot.org/pub/databases/uniprot/current_release/knowledgebase/complete/docs/strains)\n",
    "- uniprot [species list](https://ftp.uniprot.org/pub/databases/uniprot/current_release/knowledgebase/complete/docs/speclist)\n",
    "- bgee [strain mapping](https://gitlab.sib.swiss/Bgee/expression-annotations/-/tree/develop/Strains?ref_type=heads)\n",
    "- sex options: M (male), F (female), NA (not available, unknown), mixed (both male and female)"
   ]
  },
  {
   "cell_type": "code",
   "execution_count": null,
   "metadata": {},
   "outputs": [],
   "source": [
    "#library.loc[library[\"sex\"] == \"male\", \"sex\"] = \"M\"\n",
    "#library.loc[library[\"sex\"] == \"female\", \"sex\"] = \"F\"\n",
    "\n",
    "#library.loc[:,'strain'] = ''\n",
    "\n",
    "#library.loc[:,'genotype'] = ''\n",
    "\n",
    "#library.loc[:,'speciesId'] = ''\n",
    "\n",
    "# view\n",
    "display_df(library)"
   ]
  },
  {
   "cell_type": "markdown",
   "metadata": {},
   "source": [
    "#### protocol & RNAseqTags\n"
   ]
  },
  {
   "cell_type": "code",
   "execution_count": null,
   "metadata": {},
   "outputs": [],
   "source": [
    "# making these variables because we use them again in the experiment file\n",
    "# usually 10X Genomics V1/V2/V3/V3.1, Smart-seq, Smart-seq2\n",
    "my_protocol = ''\n",
    "# Full-length or 3'end or 5'end\n",
    "my_protocolType = \"\"\n",
    "\n",
    "library.loc[:,'protocol'] = my_protocol\n",
    "library.loc[:,'protocolType'] = my_protocolType\n",
    "# scRNA-seq, Sn-scRNA-seq\n",
    "library.loc[:,'RNAseqTags'] = ''\n",
    "\n",
    "# view\n",
    "display_df(library)"
   ]
  },
  {
   "cell_type": "markdown",
   "metadata": {},
   "source": [
    "#### condition"
   ]
  },
  {
   "cell_type": "code",
   "execution_count": null,
   "metadata": {},
   "outputs": [],
   "source": [
    "# ex. control, diet, light, reproductive capacity, time post mortem, time post feeding, \n",
    "# exercise details, menstruation, personality, litter size \n",
    "#library.loc[library[\"condition\"] == \"old\", \"condition\"] = \"new\"\n",
    "\n",
    "# view\n",
    "display_df(library)"
   ]
  },
  {
   "cell_type": "markdown",
   "metadata": {},
   "source": [
    "#### annotator id, last modification date"
   ]
  },
  {
   "cell_type": "code",
   "execution_count": null,
   "metadata": {},
   "outputs": [],
   "source": [
    "library.loc[:,'annotatorId'] = 'SAC'\n",
    "library.loc[:,'lastModificationDate'] = '2025-0'\n",
    "\n",
    "# view\n",
    "display_df(library)"
   ]
  },
  {
   "cell_type": "markdown",
   "metadata": {},
   "source": [
    "#### comments"
   ]
  },
  {
   "cell_type": "code",
   "execution_count": null,
   "metadata": {},
   "outputs": [],
   "source": [
    "#library.loc[:,'comment'] = ''"
   ]
  },
  {
   "cell_type": "markdown",
   "metadata": {},
   "source": [
    "#### save complete file with correct columns"
   ]
  },
  {
   "cell_type": "code",
   "execution_count": null,
   "metadata": {},
   "outputs": [],
   "source": [
    "library_file_complete = library[library_cols]\n",
    "\n",
    "library_file_complete.to_csv(library_to_add_path, sep=\"\\t\", index=False, quoting=csv.QUOTE_ALL)\n",
    "\n",
    "# view\n",
    "display_df(library_file_complete)"
   ]
  },
  {
   "cell_type": "markdown",
   "metadata": {},
   "source": [
    "### script - barcode (10X only)"
   ]
  },
  {
   "cell_type": "code",
   "execution_count": null,
   "metadata": {},
   "outputs": [],
   "source": [
    "barcode_column = \"barcode\"\n",
    "library_column = \"library_name\"\n",
    "cell_type_column = \"clusters\""
   ]
  },
  {
   "cell_type": "code",
   "execution_count": null,
   "metadata": {},
   "outputs": [],
   "source": [
    "! python3 $path_to_barcodes_script $path_to_initial_folder --scRNASeqLibrary $library_to_add_path --barcode_file $path_to_barcode_file --barcode_col $barcode_column --libName_col $library_column --cellType_col $cell_type_column --ignore_check --no_additional_file"
   ]
  },
  {
   "cell_type": "markdown",
   "metadata": {},
   "source": [
    "#### check library names match"
   ]
  },
  {
   "cell_type": "code",
   "execution_count": null,
   "metadata": {},
   "outputs": [],
   "source": [
    "lib_names = pd.read_csv(lib_names_path, sep='\\t', index_col=False, keep_default_na=False, na_values=['NULL','null', 'nan','NaN', \" \"], dtype=object)\n",
    "display_df(lib_names)"
   ]
  },
  {
   "cell_type": "markdown",
   "metadata": {},
   "source": [
    "### cell type annotation - 10X version\n",
    "* [OLS Cell Ontology](https://www.ebi.ac.uk/ols4/ontologies/cl)"
   ]
  },
  {
   "cell_type": "code",
   "execution_count": null,
   "metadata": {},
   "outputs": [],
   "source": [
    "barcode_file = pd.read_csv(barcode_path, sep='\\t', index_col=False, keep_default_na=False, na_values=['NULL','null', 'nan','NaN', \" \"], dtype=object)"
   ]
  },
  {
   "cell_type": "code",
   "execution_count": null,
   "metadata": {},
   "outputs": [],
   "source": [
    "cell_type = barcode_file['cell_type'].drop_duplicates().sort_values()\n",
    "cell_df = pd.DataFrame(cell_type)\n",
    "cell_df = cell_df.reindex(columns=[*cell_df.columns.tolist(), 'notes_cell', 'cellTypeId_', 'cellTypeName_', 'cellTypeAnnotationStatus_', 'cell_type_new','comment_cell'], fill_value=\"\")\n",
    "cell_df.to_csv(info_celltype_path, sep=\"\\t\", index=False)\n",
    "if not os.path.exists(info_celltype_complete_path): \n",
    "    cell_df.to_csv(info_celltype_complete_path, sep=\"\\t\", index=False)\n",
    "\n",
    "# options for cellTypeAnnotationStatus: perfect match, missing child term, other"
   ]
  },
  {
   "cell_type": "code",
   "execution_count": null,
   "metadata": {},
   "outputs": [],
   "source": [
    "cell_df_complete = pd.read_csv(info_celltype_complete_path, sep='\\t', index_col=False, keep_default_na=False, na_values=['NULL','null', 'nan','NaN', \" \"], dtype=object)\n",
    "display_df(cell_df_complete)"
   ]
  },
  {
   "cell_type": "code",
   "execution_count": null,
   "metadata": {},
   "outputs": [],
   "source": [
    "barcode_file = barcode_file.merge(cell_df_complete, left_on='cell_type', right_on='cell_type')"
   ]
  },
  {
   "cell_type": "code",
   "execution_count": null,
   "metadata": {},
   "outputs": [],
   "source": [
    "barcode_file['cellTypeId'] = barcode_file['cellTypeId_'].values\n",
    "barcode_file['cellTypeName'] = barcode_file['cellTypeName_'].values\n",
    "barcode_file['cellTypeAnnotationStatus'] = barcode_file['cellTypeAnnotationStatus_'].values"
   ]
  },
  {
   "cell_type": "code",
   "execution_count": null,
   "metadata": {},
   "outputs": [],
   "source": [
    "# optional - update cell type name and add comments\n",
    "#barcode_file['cell_type'] = barcode_file['cell_type_new'].values\n",
    "#barcode_file['comments'] = barcode_file[['comment_cell']]"
   ]
  },
  {
   "cell_type": "code",
   "execution_count": null,
   "metadata": {},
   "outputs": [],
   "source": [
    "barcode_file_complete = barcode_file[barcode_cols]\n",
    "display_df(barcode_file_complete)\n",
    "barcode_file_complete.to_csv(barcode_to_add_path, sep=\"\\t\", index=False, quoting=csv.QUOTE_ALL)"
   ]
  },
  {
   "cell_type": "markdown",
   "metadata": {},
   "source": [
    "### experiment annotations"
   ]
  },
  {
   "cell_type": "code",
   "execution_count": null,
   "metadata": {},
   "outputs": [],
   "source": [
    "experiment = pd.read_csv(experiment_path_from_script, sep='\\t', index_col=False, keep_default_na=False, na_values=['NULL','null', 'nan','NaN', \" \"], dtype=object)\n",
    "experiment.head()"
   ]
  },
  {
   "cell_type": "markdown",
   "metadata": {},
   "source": [
    "#### experiment and protocol details"
   ]
  },
  {
   "cell_type": "code",
   "execution_count": null,
   "metadata": {},
   "outputs": [],
   "source": [
    "library_to_add = pd.read_csv(library_to_add_path, sep='\\t', index_col=False, keep_default_na=False, na_values=['NULL','null', 'nan','NaN', \" \"], dtype=object)\n",
    "\n",
    "# this will give you the number of rows in the complete library file \n",
    "# this should be the number of annotated libraries\n",
    "ann_lib = len(library_to_add.index)\n",
    "len(library_to_add.index)"
   ]
  },
  {
   "cell_type": "code",
   "execution_count": null,
   "metadata": {},
   "outputs": [],
   "source": [
    "# partial or total\n",
    "experiment.loc[:,'experimentStatus'] = ''\n",
    "# scRNA-seq, Sn-scRNA-seq for both we put: 'Sn-scRNA-seq, scRNA-seq'\n",
    "experiment.loc[:,'RNAseqTags'] = ''\n",
    "\n",
    "\n",
    "# see above cell, also can add as free text\n",
    "experiment.loc[:,'numberOfAnnotatedLibraries'] = ann_lib\n",
    "\n",
    "# these variables should already exist from above but if not can just add as free text\n",
    "experiment.loc[:,'protocol'] = my_protocol\n",
    "experiment.loc[:,'protocolType'] = my_protocolType\n",
    "\n",
    "experiment.head()"
   ]
  },
  {
   "cell_type": "markdown",
   "metadata": {},
   "source": [
    "#### paper and xrefs"
   ]
  },
  {
   "cell_type": "code",
   "execution_count": null,
   "metadata": {},
   "outputs": [],
   "source": [
    "#experiment.loc[:,'GSE'] = ''\n",
    "#experiment.loc[:,'Bioproject'] = '' \n",
    "experiment.loc[:,'PMID'] = ''\n",
    "experiment.loc[:,'reference_url'] = ''\n",
    "experiment.loc[:,'DOI'] = ''\n",
    "#experiment.loc[:,'xrefs'] = ''\n",
    "\n",
    "experiment.head()"
   ]
  },
  {
   "cell_type": "markdown",
   "metadata": {},
   "source": [
    "#### comments"
   ]
  },
  {
   "cell_type": "code",
   "execution_count": null,
   "metadata": {},
   "outputs": [],
   "source": [
    "#experiment.loc[:,'comment'] = ''\n",
    "\n",
    "experiment.head()"
   ]
  },
  {
   "cell_type": "markdown",
   "metadata": {},
   "source": [
    "#### save complete file"
   ]
  },
  {
   "cell_type": "code",
   "execution_count": null,
   "metadata": {},
   "outputs": [],
   "source": [
    "experiment.to_csv(experiment_to_add_path, sep=\"\\t\", index=False, quoting=csv.QUOTE_ALL)"
   ]
  },
  {
   "cell_type": "markdown",
   "metadata": {},
   "source": [
    "### QA time"
   ]
  },
  {
   "cell_type": "code",
   "execution_count": null,
   "metadata": {},
   "outputs": [],
   "source": [
    "library_to_add = pd.read_csv(library_to_add_path, sep='\\t', index_col=False, keep_default_na=False, na_values=['NULL','null', 'nan','NaN', \" \"], dtype=object)\n",
    "experiment_to_add = pd.read_csv(experiment_to_add_path, sep='\\t', index_col=False, keep_default_na=False, na_values=['NULL','null', 'nan','NaN', \" \"], dtype=object)"
   ]
  },
  {
   "cell_type": "markdown",
   "metadata": {},
   "source": [
    "#### to add things here\n",
    "* add check that experimentDescription in experiment file isn't blank or NA\n",
    "* add check that all anat, celltype, stage columns are filled out\n",
    "    * celltype can be blank if 10X experiment but should have a flag for that\n",
    "* add check that all annotation status columns are filled out"
   ]
  },
  {
   "cell_type": "markdown",
   "metadata": {},
   "source": [
    "#### check columns match"
   ]
  },
  {
   "cell_type": "code",
   "execution_count": null,
   "metadata": {},
   "outputs": [],
   "source": [
    "# pull from git and pull in library/experiment file\n",
    "! git pull\n",
    "git_library = pd.read_csv(git_library_path, sep='\\t', index_col=False, keep_default_na=False, na_values=['NULL','null', 'nan','NaN', \" \"], dtype=object)\n",
    "git_experiment = pd.read_csv(git_experiment_path, sep='\\t', index_col=False, keep_default_na=False, na_values=['NULL','null', 'nan','NaN', \" \"], dtype=object)\n",
    "\n",
    "# library file\n",
    "if set(library_to_add.columns) == set(git_library.columns):\n",
    "    print('The columns in the library file match')\n",
    "else:\n",
    "    print('The columns in the library file DO NOT MATCH')\n",
    "\n",
    "# experiment file\n",
    "if set(experiment_to_add.columns) == set(git_experiment.columns):\n",
    "    print('The columns in the experiment file match')\n",
    "else:\n",
    "    print('The columns in the experiment file DO NOT MATCH')\n",
    "\n",
    "\n",
    "# maybe to make this something more like \"COLUMNS GOOD - LIBRARY\" and \"COLUMNS BAD - EXPERIMENT\""
   ]
  },
  {
   "cell_type": "markdown",
   "metadata": {},
   "source": [
    "#### view files"
   ]
  },
  {
   "cell_type": "code",
   "execution_count": null,
   "metadata": {},
   "outputs": [],
   "source": [
    "library_git_plus_new = pd.concat([git_library, library_to_add], ignore_index = True, sort = False)\n",
    "old_length = git_library.shape[0]\n",
    "start = old_length - 2\n",
    "end = old_length + 5\n",
    "view_lib = library_git_plus_new.iloc[start:end]\n",
    "view_lib"
   ]
  },
  {
   "cell_type": "code",
   "execution_count": null,
   "metadata": {},
   "outputs": [],
   "source": [
    "experiment_git_plus_new = pd.concat([git_experiment, experiment_to_add], ignore_index = True, sort = False)\n",
    "experiment_git_plus_new.tail(n=3)"
   ]
  },
  {
   "cell_type": "code",
   "execution_count": null,
   "metadata": {},
   "outputs": [],
   "source": [
    "# 10X only\n",
    "barcode_file_for_git = pd.read_csv(barcode_to_add_path, sep='\\t', index_col=False, keep_default_na=False, na_values=['NULL','null', 'nan','NaN', \" \"], dtype=object)\n",
    "barcode_file_for_git.head(10)"
   ]
  },
  {
   "cell_type": "markdown",
   "metadata": {},
   "source": [
    "### add annotations to git"
   ]
  },
  {
   "cell_type": "code",
   "execution_count": null,
   "metadata": {},
   "outputs": [],
   "source": [
    "! git pull"
   ]
  },
  {
   "cell_type": "code",
   "execution_count": null,
   "metadata": {},
   "outputs": [],
   "source": [
    "library_git_plus_new.to_csv(git_library_path, sep=\"\\t\", index=False, quoting=csv.QUOTE_ALL)\n",
    "update_format(git_library_path)\n",
    "experiment_git_plus_new.to_csv(git_experiment_path, sep=\"\\t\", index=False, quoting=csv.QUOTE_ALL)\n",
    "update_format(git_experiment_path)"
   ]
  },
  {
   "cell_type": "code",
   "execution_count": null,
   "metadata": {},
   "outputs": [],
   "source": [
    "# 10X only\n",
    "barcode_file_for_git.to_csv(git_barcode_path, sep=\"\\t\", index=False, quoting=csv.QUOTE_ALL)\n",
    "update_format(git_barcode_path)"
   ]
  },
  {
   "cell_type": "code",
   "execution_count": null,
   "metadata": {},
   "outputs": [],
   "source": [
    "! git status"
   ]
  },
  {
   "cell_type": "code",
   "execution_count": null,
   "metadata": {},
   "outputs": [],
   "source": [
    "# 10X (barcode file)\n",
    "! git add $git_experiment_path $git_library_path $git_barcode_path "
   ]
  },
  {
   "cell_type": "code",
   "execution_count": null,
   "metadata": {},
   "outputs": [],
   "source": [
    "# smart-seq (no barcode file)\n",
    "! git add $git_experiment_path $git_library_path  "
   ]
  },
  {
   "cell_type": "code",
   "execution_count": null,
   "metadata": {},
   "outputs": [],
   "source": [
    "! git status"
   ]
  },
  {
   "cell_type": "code",
   "execution_count": null,
   "metadata": {},
   "outputs": [],
   "source": [
    "! git commit -m $commit_message_exp"
   ]
  },
  {
   "cell_type": "code",
   "execution_count": null,
   "metadata": {},
   "outputs": [],
   "source": [
    "! git push"
   ]
  },
  {
   "cell_type": "markdown",
   "metadata": {},
   "source": [
    "### add annotation folder and script to git"
   ]
  },
  {
   "cell_type": "markdown",
   "metadata": {},
   "source": [
    "first - run annotation summary cells, save ipynb, export to html "
   ]
  },
  {
   "cell_type": "code",
   "execution_count": null,
   "metadata": {},
   "outputs": [],
   "source": [
    "! git status"
   ]
  },
  {
   "cell_type": "code",
   "execution_count": null,
   "metadata": {},
   "outputs": [],
   "source": [
    "! git add $path_to_output"
   ]
  },
  {
   "cell_type": "code",
   "execution_count": null,
   "metadata": {},
   "outputs": [],
   "source": [
    "! git commit -m $commit_message_py"
   ]
  },
  {
   "cell_type": "code",
   "execution_count": null,
   "metadata": {},
   "outputs": [],
   "source": [
    "! git push"
   ]
  }
 ],
 "metadata": {
  "kernelspec": {
   "display_name": "scRNA",
   "language": "python",
   "name": "python3"
  },
  "language_info": {
   "codemirror_mode": {
    "name": "ipython",
    "version": 3
   },
   "file_extension": ".py",
   "mimetype": "text/x-python",
   "name": "python",
   "nbconvert_exporter": "python",
   "pygments_lexer": "ipython3",
   "version": "3.12.3"
  }
 },
 "nbformat": 4,
 "nbformat_minor": 2
}
