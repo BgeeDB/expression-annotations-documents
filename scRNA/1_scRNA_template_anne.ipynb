{
 "cells": [
  {
   "cell_type": "markdown",
   "metadata": {},
   "source": [
    "## title\n",
    "\n",
    "**paper:** []() - \n",
    "\n",
    "**date, curator:** 2024-0, Sara Carsanaro\n",
    "\n",
    "**resources**\n",
    "\n",
    "**notes**"
   ]
  },
  {
   "cell_type": "markdown",
   "metadata": {},
   "source": [
    "### set variables, import packages, define functions"
   ]
  },
  {
   "cell_type": "code",
   "execution_count": 20,
   "metadata": {},
   "outputs": [],
   "source": [
    "experiment_id = \"SRP404481\"\n",
    "\n",
    "path_to_create_exp_script = \"/Users/anneniknejad/Bgee/scripts/scripts/Create_ExpLib_tables.py\" \n",
    "path_to_barcodes_script = \"/Users/anneniknejad/Bgee/scripts/scripts/create_scRNASeq_barcode_v2.py\"\n",
    "experiment_type = \"scRNA\"\n",
    "\n",
    "path_to_output  = \"/Users/anneniknejad/SCRNA/{}/\".format(experiment_id)\n",
    "import os\n",
    "if not os.path.exists(path_to_output):\n",
    "    os.makedirs(path_to_output)\n",
    "library_path_from_script = \"{}scRNASeqLibrary_{}.tsv\".format(path_to_output, experiment_id)\n",
    "experiment_path_from_script = \"{}scRNASeqExperiment_{}.tsv\".format(path_to_output, experiment_id)\n",
    "barcode_path = \"{}scRNASeq_barcode_{}.tsv\".format(path_to_output, experiment_id)\n",
    "commit_message_exp = '\"adding annotated scRNA experiment {}\"'.format(experiment_id)\n",
    "\n",
    "\n",
    "\n",
    "## to add to git\n",
    "path_to_git_annotations = \"/Users/anneniknejad/expression-annotations/scRNA_Seq/\"\n",
    "git_library_path = \"{}scRNASeqLibrary_merged.tsv\".format(path_to_git_annotations)\n",
    "git_experiment_path = \"{}scRNASeqExperiment.tsv\".format(path_to_git_annotations)\n",
    "git_barcode_path = \"{}scRNASeq_barcode_{}.tsv\".format(path_to_git_annotations, experiment_id)\n",
    "\n",
    "## columns\n",
    "library_cols = ['#libraryId', 'experimentId', 'platform', 'SRSId', 'anatId', 'anatName', 'cellTypeId', 'cellTypeName', 'stageId', 'stageName', 'url_GSM', 'infoOrgan', 'infoCellType_abInitio', 'infoCellType_inferred', 'clusterId', 'clusterName', 'infoStage', 'anatAnnotationStatus', 'cellTypeAnnotationStatus', 'stageAnnotationStatus', 'sex', 'strain', 'genotype', 'speciesId', 'RNAseqTags', 'protocol', 'protocolType', 'lib_name', 'sampleName', 'comment', 'condition', 'annotatorId', 'lastModificationDate']\n",
    "barcode_cols = ['barcode', 'cluster', 'library', 'experiment', 'tissue', 'cell_type', 'anatId_a_posteriori', 'anatName_a_posteriori', 'anat_a_posteriori_annotationStatus', 'cellTypeId', 'cellTypeName', 'cellTypeAnnotationStatus', 'name_Library', 'comments']\n",
    "\n",
    "\n",
    "## barcode file & matching library names - 10X only\n",
    "#path_to_barcode_file = \"{}barcode_{}.tsv\".format(path_to_output, experiment_id)\n",
    "lib_names_path = \"{}matching_lib_names_{}.tsv\".format(path_to_output, experiment_id)\n",
    "\n"
   ]
  },
  {
   "cell_type": "code",
   "execution_count": 2,
   "metadata": {},
   "outputs": [],
   "source": [
    "import warnings\n",
    "warnings.simplefilter(action='ignore', category=FutureWarning)\n",
    "import pandas as pd\n",
    "import numpy as np\n",
    "from IPython.display import display, HTML\n",
    "import csv\n",
    "import scanpy as sc\n",
    "\n",
    "# displays df with the scrollbar next to the DataFrame\n",
    "def display_df(df):\n",
    "    pd.set_option(\"display.max_rows\", None)\n",
    "    pd.set_option(\"display.max_columns\", None)\n",
    "    display(HTML(\"<div style='height: 200px; overflow: auto; width: fit-content'>\" +\n",
    "        df.style.to_html(index=False) + \"</div>\"))\n",
    "\n",
    "# function that compares two columns in a dataframe and tells you which ones are not equal (case insensitive)\n",
    "def compare_columns(df, col1, col2, return_col):\n",
    "    compare_return = df[col1].str.lower() != df[col2].str.lower()  \n",
    "    df.loc[compare_return, return_col] \n",
    "    if not any(compare_return):\n",
    "        print(\"The two columns are equal (case insensitive)\")\n",
    "    else:\n",
    "        print(\"The following rows are not equal: \")\n",
    "        print(df.loc[compare_return, return_col])\n",
    "\n",
    "# fixes formatting of file to match libreoffice settings/historic file format\n",
    "def update_format(path):\n",
    "    with open(path, 'r') as file:\n",
    "        filedata = file.read()\n",
    "    # Replace the target string\n",
    "    filedata = filedata.replace(\"\\t\\\"\\\"\", \"\\t\")\n",
    "    # Write the file out again\n",
    "    with open(path, 'w') as file:\n",
    "        file.write(filedata)\n",
    "\n",
    "# checks for duplicate values in a specific column and prints those values + the corresponding library id\n",
    "def dup_check(df, column):\n",
    "    duplicateCheck = df.duplicated(subset=[column], keep=False)\n",
    "    duplicateCheck.sort_values(inplace=True)\n",
    "    if duplicateCheck.unique().any() == False:\n",
    "        print(\"no duplicate values in \" + column)\n",
    "    elif duplicateCheck.unique().any() == True and column != '#libraryId':\n",
    "        dups = df[duplicateCheck].loc[:,['#libraryId', column]]\n",
    "        df_dups = pd.DataFrame(dups)\n",
    "        df_dups.sort_values(inplace=True, by=column)\n",
    "        print(df_dups)\n",
    "    elif duplicateCheck.unique().any() == True and column == '#libraryId':\n",
    "        print(df[duplicateCheck].loc[:,['#libraryId']])\n",
    "\n",
    "# prints all unique values in a specific column\n",
    "def unique_sorted(df, column):\n",
    "    unique = df[column].unique()\n",
    "    unique.sort()\n",
    "    print(unique)"
   ]
  },
  {
   "cell_type": "markdown",
   "metadata": {},
   "source": [
    "### script"
   ]
  },
  {
   "cell_type": "code",
   "execution_count": null,
   "metadata": {},
   "outputs": [],
   "source": [
    "! python3 $path_to_create_exp_script $experiment_id $path_to_output $experiment_type"
   ]
  },
  {
   "cell_type": "markdown",
   "metadata": {},
   "source": [
    "### manual annotation time"
   ]
  },
  {
   "cell_type": "markdown",
   "metadata": {},
   "source": [
    "### links for annotation\n",
    "- [species specific developmental ontologies](https://github.com/obophenotype/developmental-stage-ontologies/tree/master/src)\n",
    "- uniprot [strain list](https://ftp.uniprot.org/pub/databases/uniprot/current_release/knowledgebase/complete/docs/strains)\n",
    "- uniprot [species list](https://ftp.uniprot.org/pub/databases/uniprot/current_release/knowledgebase/complete/docs/speclist)\n",
    "- bgee [strain mapping](https://gitlab.sib.swiss/Bgee/expression-annotations/-/tree/develop/Strains?ref_type=heads)\n",
    "- [bulk.cvs file](https://gitlab.sib.swiss/Bgee/scRNA-Seq/-/blob/main/scripts/bulk_kits.csv)\n",
    "- [taxonomy](https://www.ncbi.nlm.nih.gov/taxonomy)\n",
    "- sex options: M (male), F (female), NA (not available, unknown), mixed (both male and female)\n",
    "- protocolType option: full_length, 3'"
   ]
  },
  {
   "cell_type": "markdown",
   "metadata": {},
   "source": [
    "#### save complete file with correct columns"
   ]
  },
  {
   "cell_type": "code",
   "execution_count": 13,
   "metadata": {},
   "outputs": [],
   "source": [
    "library = pd.read_csv(library_path_from_script, sep='\\t', index_col=False, keep_default_na=False, na_values=['NULL','null', 'nan','NaN', \" \"], dtype=object)\n",
    "\n",
    "library_file_complete = library[library_cols]\n",
    "\n",
    "library_file_complete.loc[:,'annotatorId'] = 'ANN'\n",
    "library_file_complete.loc[:,'lastModificationDate'] = '2025-01-07'\n",
    "library_file_complete.to_csv(library_path_from_script, sep=\"\\t\", index=False, quoting=csv.QUOTE_ALL)\n"
   ]
  },
  {
   "cell_type": "markdown",
   "metadata": {},
   "source": [
    "### script - barcode (10X only)"
   ]
  },
  {
   "cell_type": "code",
   "execution_count": 14,
   "metadata": {},
   "outputs": [],
   "source": [
    "path_to_barcode_file = \"{}GSE216542_RNA_Metadata_Final.tsv\".format(path_to_output)\n",
    "barcode_column = \"orig.ident\"\n",
    "library_column = \"orig.ident\"\n",
    "cell_type_column = \"SubclusterAnnotation\""
   ]
  },
  {
   "cell_type": "code",
   "execution_count": null,
   "metadata": {},
   "outputs": [],
   "source": [
    "! python3 $path_to_barcodes_script $path_to_output --scRNASeqLibrary $library_path_from_script  --barcode_file $path_to_barcode_file --barcode_col $barcode_column --libName_col $library_column --cellType_col $cell_type_column --ignore_check --no_additional_file"
   ]
  },
  {
   "cell_type": "markdown",
   "metadata": {},
   "source": [
    "#### check library names match"
   ]
  },
  {
   "cell_type": "code",
   "execution_count": null,
   "metadata": {},
   "outputs": [],
   "source": [
    "lib_names = pd.read_csv(lib_names_path, sep='\\t', index_col=False, keep_default_na=False, na_values=['NULL','null', 'nan','NaN', \" \"], dtype=object)\n",
    "display_df(lib_names)"
   ]
  },
  {
   "cell_type": "markdown",
   "metadata": {},
   "source": [
    "### QA time"
   ]
  },
  {
   "cell_type": "code",
   "execution_count": 17,
   "metadata": {},
   "outputs": [],
   "source": [
    "library_to_add = pd.read_csv(library_path_from_script, sep='\\t', index_col=False, keep_default_na=False, na_values=['NULL','null', 'nan','NaN', \" \"], dtype=object)\n",
    "experiment_to_add = pd.read_csv(experiment_path_from_script, sep='\\t', index_col=False, keep_default_na=False, na_values=['NULL','null', 'nan','NaN', \" \"], dtype=object)"
   ]
  },
  {
   "cell_type": "markdown",
   "metadata": {},
   "source": [
    "#### to add things here\n",
    "* add check that experimentDescription in experiment file isn't blank or NA\n",
    "* add check that all anat, celltype, stage columns are filled out\n",
    "    * celltype can be blank if 10X experiment but should have a flag for that\n",
    "* add check that all annotation status columns are filled out"
   ]
  },
  {
   "cell_type": "markdown",
   "metadata": {},
   "source": [
    "#### check columns match"
   ]
  },
  {
   "cell_type": "code",
   "execution_count": null,
   "metadata": {},
   "outputs": [],
   "source": [
    "# pull from git and pull in library/experiment file\n",
    "! git pull\n",
    "git_library = pd.read_csv(git_library_path, sep='\\t', index_col=False, keep_default_na=False, na_values=['NULL','null', 'nan','NaN', \" \"], dtype=object)\n",
    "git_experiment = pd.read_csv(git_experiment_path, sep='\\t', index_col=False, keep_default_na=False, na_values=['NULL','null', 'nan','NaN', \" \"], dtype=object)\n",
    "\n",
    "# library file\n",
    "if set(library_to_add.columns) == set(git_library.columns):\n",
    "    print('The columns in the library file match')\n",
    "else:\n",
    "    print('The columns in the library file DO NOT MATCH')\n",
    "\n",
    "# experiment file\n",
    "if set(experiment_to_add.columns) == set(git_experiment.columns):\n",
    "    print('The columns in the experiment file match')\n",
    "else:\n",
    "    print('The columns in the experiment file DO NOT MATCH')\n",
    "\n",
    "\n",
    "# maybe to make this something more like \"COLUMNS GOOD - LIBRARY\" and \"COLUMNS BAD - EXPERIMENT\""
   ]
  },
  {
   "cell_type": "markdown",
   "metadata": {},
   "source": [
    "#### view files"
   ]
  },
  {
   "cell_type": "code",
   "execution_count": null,
   "metadata": {},
   "outputs": [],
   "source": [
    "library_git_plus_new = pd.concat([git_library, library_to_add], ignore_index = True, sort = False)\n",
    "old_length = git_library.shape[0]\n",
    "start = old_length - 2\n",
    "end = old_length + 5\n",
    "view_lib = library_git_plus_new.iloc[start:end]\n",
    "view_lib"
   ]
  },
  {
   "cell_type": "code",
   "execution_count": null,
   "metadata": {},
   "outputs": [],
   "source": [
    "experiment_git_plus_new = pd.concat([git_experiment, experiment_to_add], ignore_index = True, sort = False)\n",
    "experiment_git_plus_new.tail(n=5)"
   ]
  },
  {
   "cell_type": "code",
   "execution_count": null,
   "metadata": {},
   "outputs": [],
   "source": [
    "# 10X only\n",
    "barcode_file_for_git = pd.read_csv(barcode_path, sep='\\t', index_col=False, keep_default_na=False, na_values=['NULL','null', 'nan','NaN', \" \"], dtype=object)\n",
    "barcode_file_for_git.head(20)"
   ]
  },
  {
   "cell_type": "markdown",
   "metadata": {},
   "source": [
    "### add annotations to git"
   ]
  },
  {
   "cell_type": "code",
   "execution_count": null,
   "metadata": {},
   "outputs": [],
   "source": [
    "! git pull"
   ]
  },
  {
   "cell_type": "code",
   "execution_count": null,
   "metadata": {},
   "outputs": [],
   "source": [
    "library_git_plus_new.to_csv(git_library_path, sep=\"\\t\", index=False, quoting=csv.QUOTE_ALL)\n",
    "update_format(git_library_path)\n",
    "experiment_git_plus_new.to_csv(git_experiment_path, sep=\"\\t\", index=False, quoting=csv.QUOTE_ALL)\n",
    "update_format(git_experiment_path)"
   ]
  },
  {
   "cell_type": "code",
   "execution_count": null,
   "metadata": {},
   "outputs": [],
   "source": [
    "# 10X only - adding barcode file to git\n",
    "barcode_file_for_git.to_csv(git_barcode_path, sep=\"\\t\", index=False, quoting=csv.QUOTE_ALL)\n",
    "update_format(git_barcode_path)"
   ]
  },
  {
   "cell_type": "code",
   "execution_count": null,
   "metadata": {},
   "outputs": [],
   "source": [
    "! git status"
   ]
  },
  {
   "cell_type": "code",
   "execution_count": null,
   "metadata": {},
   "outputs": [],
   "source": [
    "# 10X (barcode file)\n",
    "! git add $git_experiment_path $git_library_path $git_barcode_path "
   ]
  },
  {
   "cell_type": "code",
   "execution_count": null,
   "metadata": {},
   "outputs": [],
   "source": [
    "# smart-seq (no barcode file)\n",
    "! git add $git_experiment_path $git_library_path  "
   ]
  },
  {
   "cell_type": "code",
   "execution_count": null,
   "metadata": {},
   "outputs": [],
   "source": [
    "! git status"
   ]
  },
  {
   "cell_type": "code",
   "execution_count": null,
   "metadata": {},
   "outputs": [],
   "source": [
    "! git commit -m $commit_message_exp"
   ]
  },
  {
   "cell_type": "code",
   "execution_count": null,
   "metadata": {},
   "outputs": [],
   "source": [
    "! git push"
   ]
  }
 ],
 "metadata": {
  "kernelspec": {
   "display_name": "base",
   "language": "python",
   "name": "python3"
  },
  "language_info": {
   "codemirror_mode": {
    "name": "ipython",
    "version": 3
   },
   "file_extension": ".py",
   "mimetype": "text/x-python",
   "name": "python",
   "nbconvert_exporter": "python",
   "pygments_lexer": "ipython3",
   "version": "3.10.9"
  }
 },
 "nbformat": 4,
 "nbformat_minor": 2
}
